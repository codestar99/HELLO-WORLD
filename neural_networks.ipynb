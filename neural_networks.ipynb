{
  "nbformat": 4,
  "nbformat_minor": 0,
  "metadata": {
    "colab": {
      "name": "neural networks.ipynb",
      "version": "0.3.2",
      "provenance": [],
      "include_colab_link": true
    },
    "kernelspec": {
      "name": "python3",
      "display_name": "Python 3"
    }
  },
  "cells": [
    {
      "cell_type": "markdown",
      "metadata": {
        "id": "view-in-github",
        "colab_type": "text"
      },
      "source": [
        "<a href=\"https://colab.research.google.com/github/codestar99/HELLO-WORLD/blob/master/neural_networks.ipynb\" target=\"_parent\"><img src=\"https://colab.research.google.com/assets/colab-badge.svg\" alt=\"Open In Colab\"/></a>"
      ]
    },
    {
      "cell_type": "code",
      "metadata": {
        "id": "fq5sI0Htbgfo",
        "colab_type": "code",
        "colab": {
          "base_uri": "https://localhost:8080/",
          "height": 222
        },
        "outputId": "5df8aea5-c1b0-455e-bbe1-4085bc3989be"
      },
      "source": [
        "!wget https://gist.githubusercontent.com/prateek27/81ef38e7a185f5cecbcb9657f50f8315/raw/91aecb3fba721b227f02d94a07e755a84aa8d795/helper.py\n",
        "  "
      ],
      "execution_count": 1,
      "outputs": [
        {
          "output_type": "stream",
          "text": [
            "--2019-08-25 06:20:36--  https://gist.githubusercontent.com/prateek27/81ef38e7a185f5cecbcb9657f50f8315/raw/91aecb3fba721b227f02d94a07e755a84aa8d795/helper.py\n",
            "Resolving gist.githubusercontent.com (gist.githubusercontent.com)... 151.101.0.133, 151.101.64.133, 151.101.128.133, ...\n",
            "Connecting to gist.githubusercontent.com (gist.githubusercontent.com)|151.101.0.133|:443... connected.\n",
            "HTTP request sent, awaiting response... 200 OK\n",
            "Length: 3484 (3.4K) [text/plain]\n",
            "Saving to: ‘helper.py’\n",
            "\n",
            "\rhelper.py             0%[                    ]       0  --.-KB/s               \rhelper.py           100%[===================>]   3.40K  --.-KB/s    in 0s      \n",
            "\n",
            "2019-08-25 06:20:36 (82.9 MB/s) - ‘helper.py’ saved [3484/3484]\n",
            "\n"
          ],
          "name": "stdout"
        }
      ]
    },
    {
      "cell_type": "code",
      "metadata": {
        "id": "plY9iwh5brIS",
        "colab_type": "code",
        "colab": {
          "base_uri": "https://localhost:8080/",
          "height": 34
        },
        "outputId": "30b43a96-8702-4115-fb4c-2578fb4b7f03"
      },
      "source": [
        "!ls\n"
      ],
      "execution_count": 2,
      "outputs": [
        {
          "output_type": "stream",
          "text": [
            "helper.py  sample_data\n"
          ],
          "name": "stdout"
        }
      ]
    },
    {
      "cell_type": "code",
      "metadata": {
        "id": "R57BzxdObzLE",
        "colab_type": "code",
        "colab": {}
      },
      "source": [
        "import helper"
      ],
      "execution_count": 0,
      "outputs": []
    },
    {
      "cell_type": "code",
      "metadata": {
        "id": "67Ft3EZCb41C",
        "colab_type": "code",
        "colab": {}
      },
      "source": [
        "from helper import *\n",
        "import matplotlib.pyplot as plt"
      ],
      "execution_count": 0,
      "outputs": []
    },
    {
      "cell_type": "code",
      "metadata": {
        "id": "-3TeItlZdSa9",
        "colab_type": "code",
        "colab": {}
      },
      "source": [
        "X,Y = load_dataset('xor')"
      ],
      "execution_count": 0,
      "outputs": []
    },
    {
      "cell_type": "code",
      "metadata": {
        "id": "ZbwnsSyUdc5S",
        "colab_type": "code",
        "colab": {
          "base_uri": "https://localhost:8080/",
          "height": 34
        },
        "outputId": "559bb889-2f71-4694-c308-e6fe463a182b"
      },
      "source": [
        "print(X.shape,Y.shape)"
      ],
      "execution_count": 53,
      "outputs": [
        {
          "output_type": "stream",
          "text": [
            "(4, 2) (4,)\n"
          ],
          "name": "stdout"
        }
      ]
    },
    {
      "cell_type": "code",
      "metadata": {
        "id": "ORH3OjPldhA-",
        "colab_type": "code",
        "colab": {
          "base_uri": "https://localhost:8080/",
          "height": 347
        },
        "outputId": "d2f3b700-28ce-4b01-ec58-baf9af4c4146"
      },
      "source": [
        "plt.scatter(X[:,0],X[:,1],c=Y)\n",
        "plt.show()"
      ],
      "execution_count": 54,
      "outputs": [
        {
          "output_type": "display_data",
          "data": {
            "image/png": "[encoded data removed]",
            "text/plain": [
              "<Figure size 576x396 with 1 Axes>"
            ]
          },
          "metadata": {
            "tags": []
          }
        }
      ]
    },
    {
      "cell_type": "code",
      "metadata": {
        "id": "p5RU-8BQduCK",
        "colab_type": "code",
        "colab": {}
      },
      "source": [
        "from keras.models import Sequential\n",
        "from keras.layers import *"
      ],
      "execution_count": 0,
      "outputs": []
    },
    {
      "cell_type": "code",
      "metadata": {
        "id": "9_aZluUpeBu0",
        "colab_type": "code",
        "colab": {
          "base_uri": "https://localhost:8080/",
          "height": 235
        },
        "outputId": "af8541d2-a315-4caa-e823-6ee318079519"
      },
      "source": [
        "#building neural networks\n",
        "model = Sequential()\n",
        "model.add(Dense(4,input_shape=(2,),activation='tanh'))\n",
        "model.add(Dense(6,input_shape=(2,),activation='tanh'))\n",
        "model.add(Dense(2,input_shape=(2,),activation='softmax'))\n",
        "\n",
        "model.compile(optimizer='adam',loss='binary_crossentropy',metrics=['accuracy'])\n",
        "model.summary()"
      ],
      "execution_count": 56,
      "outputs": [
        {
          "output_type": "stream",
          "text": [
            "_________________________________________________________________\n",
            "Layer (type)                 Output Shape              Param #   \n",
            "=================================================================\n",
            "dense_12 (Dense)             (None, 4)                 12        \n",
            "_________________________________________________________________\n",
            "dense_13 (Dense)             (None, 6)                 30        \n",
            "_________________________________________________________________\n",
            "dense_14 (Dense)             (None, 2)                 14        \n",
            "=================================================================\n",
            "Total params: 56\n",
            "Trainable params: 56\n",
            "Non-trainable params: 0\n",
            "_________________________________________________________________\n"
          ],
          "name": "stdout"
        }
      ]
    },
    {
      "cell_type": "code",
      "metadata": {
        "id": "ZyUWR5kdeuN9",
        "colab_type": "code",
        "colab": {
          "base_uri": "https://localhost:8080/",
          "height": 1000
        },
        "outputId": "97986820-5ee8-4ab3-ef9f-1167350c75fa"
      },
      "source": [
        "#train\n",
        "from keras.utils import to_categorical\n",
        "Y_=to_categorical(Y)\n",
        "print(Y.shape)\n",
        "model.fit(X,Y_,epochs=200)\n",
        "#like the graddescent func it starts the process"
      ],
      "execution_count": 57,
      "outputs": [
        {
          "output_type": "stream",
          "text": [
            "(4,)\n",
            "Epoch 1/200\n",
            "4/4 [==============================] - 0s 120ms/step - loss: 0.7041 - acc: 0.3750\n",
            "Epoch 2/200\n",
            "4/4 [==============================] - 0s 450us/step - loss: 0.7030 - acc: 0.2500\n",
            "Epoch 3/200\n",
            "4/4 [==============================] - 0s 872us/step - loss: 0.7018 - acc: 0.2500\n",
            "Epoch 4/200\n",
            "4/4 [==============================] - 0s 387us/step - loss: 0.7005 - acc: 0.2500\n",
            "Epoch 5/200\n",
            "4/4 [==============================] - 0s 441us/step - loss: 0.6993 - acc: 0.5000\n",
            "Epoch 6/200\n",
            "4/4 [==============================] - 0s 360us/step - loss: 0.6980 - acc: 0.5000\n",
            "Epoch 7/200\n",
            "4/4 [==============================] - 0s 301us/step - loss: 0.6968 - acc: 0.5000\n",
            "Epoch 8/200\n",
            "4/4 [==============================] - 0s 291us/step - loss: 0.6957 - acc: 0.5000\n",
            "Epoch 9/200\n",
            "4/4 [==============================] - 0s 287us/step - loss: 0.6945 - acc: 0.5000\n",
            "Epoch 10/200\n",
            "4/4 [==============================] - 0s 277us/step - loss: 0.6934 - acc: 0.5000\n",
            "Epoch 11/200\n",
            "4/4 [==============================] - 0s 284us/step - loss: 0.6924 - acc: 0.5000\n",
            "Epoch 12/200\n",
            "4/4 [==============================] - 0s 462us/step - loss: 0.6913 - acc: 0.5000\n",
            "Epoch 13/200\n",
            "4/4 [==============================] - 0s 667us/step - loss: 0.6903 - acc: 0.5000\n",
            "Epoch 14/200\n",
            "4/4 [==============================] - 0s 863us/step - loss: 0.6893 - acc: 0.5000\n",
            "Epoch 15/200\n",
            "4/4 [==============================] - 0s 320us/step - loss: 0.6884 - acc: 0.5000\n",
            "Epoch 16/200\n",
            "4/4 [==============================] - 0s 462us/step - loss: 0.6874 - acc: 0.5000\n",
            "Epoch 17/200\n",
            "4/4 [==============================] - 0s 408us/step - loss: 0.6865 - acc: 0.5000\n",
            "Epoch 18/200\n",
            "4/4 [==============================] - 0s 360us/step - loss: 0.6856 - acc: 0.5000\n",
            "Epoch 19/200\n",
            "4/4 [==============================] - 0s 391us/step - loss: 0.6847 - acc: 0.5000\n",
            "Epoch 20/200\n",
            "4/4 [==============================] - 0s 359us/step - loss: 0.6839 - acc: 0.5000\n",
            "Epoch 21/200\n",
            "4/4 [==============================] - 0s 344us/step - loss: 0.6830 - acc: 0.5000\n",
            "Epoch 22/200\n",
            "4/4 [==============================] - 0s 327us/step - loss: 0.6822 - acc: 0.5000\n",
            "Epoch 23/200\n",
            "4/4 [==============================] - 0s 344us/step - loss: 0.6813 - acc: 0.5000\n",
            "Epoch 24/200\n",
            "4/4 [==============================] - 0s 296us/step - loss: 0.6805 - acc: 0.5000\n",
            "Epoch 25/200\n",
            "4/4 [==============================] - 0s 281us/step - loss: 0.6797 - acc: 0.5000\n",
            "Epoch 26/200\n",
            "4/4 [==============================] - 0s 395us/step - loss: 0.6789 - acc: 0.5000\n",
            "Epoch 27/200\n",
            "4/4 [==============================] - 0s 403us/step - loss: 0.6781 - acc: 0.5000\n",
            "Epoch 28/200\n",
            "4/4 [==============================] - 0s 317us/step - loss: 0.6773 - acc: 0.5000\n",
            "Epoch 29/200\n",
            "4/4 [==============================] - 0s 332us/step - loss: 0.6765 - acc: 0.5000\n",
            "Epoch 30/200\n",
            "4/4 [==============================] - 0s 325us/step - loss: 0.6757 - acc: 0.2500\n",
            "Epoch 31/200\n",
            "4/4 [==============================] - 0s 305us/step - loss: 0.6749 - acc: 0.2500\n",
            "Epoch 32/200\n",
            "4/4 [==============================] - 0s 345us/step - loss: 0.6741 - acc: 0.2500\n",
            "Epoch 33/200\n",
            "4/4 [==============================] - 0s 342us/step - loss: 0.6733 - acc: 0.2500\n",
            "Epoch 34/200\n",
            "4/4 [==============================] - 0s 328us/step - loss: 0.6725 - acc: 0.2500\n",
            "Epoch 35/200\n",
            "4/4 [==============================] - 0s 336us/step - loss: 0.6717 - acc: 0.2500\n",
            "Epoch 36/200\n",
            "4/4 [==============================] - 0s 473us/step - loss: 0.6709 - acc: 0.2500\n",
            "Epoch 37/200\n",
            "4/4 [==============================] - 0s 380us/step - loss: 0.6701 - acc: 0.5000\n",
            "Epoch 38/200\n",
            "4/4 [==============================] - 0s 399us/step - loss: 0.6694 - acc: 0.5000\n",
            "Epoch 39/200\n",
            "4/4 [==============================] - 0s 393us/step - loss: 0.6686 - acc: 0.5000\n",
            "Epoch 40/200\n",
            "4/4 [==============================] - 0s 356us/step - loss: 0.6678 - acc: 0.5000\n",
            "Epoch 41/200\n",
            "4/4 [==============================] - 0s 366us/step - loss: 0.6670 - acc: 0.5000\n",
            "Epoch 42/200\n",
            "4/4 [==============================] - 0s 363us/step - loss: 0.6662 - acc: 0.5000\n",
            "Epoch 43/200\n",
            "4/4 [==============================] - 0s 355us/step - loss: 0.6655 - acc: 0.5000\n",
            "Epoch 44/200\n",
            "4/4 [==============================] - 0s 336us/step - loss: 0.6647 - acc: 0.5000\n",
            "Epoch 45/200\n",
            "4/4 [==============================] - 0s 286us/step - loss: 0.6639 - acc: 0.5000\n",
            "Epoch 46/200\n",
            "4/4 [==============================] - 0s 294us/step - loss: 0.6631 - acc: 0.5000\n",
            "Epoch 47/200\n",
            "4/4 [==============================] - 0s 375us/step - loss: 0.6624 - acc: 0.5000\n",
            "Epoch 48/200\n",
            "4/4 [==============================] - 0s 342us/step - loss: 0.6616 - acc: 0.5000\n",
            "Epoch 49/200\n",
            "4/4 [==============================] - 0s 345us/step - loss: 0.6608 - acc: 0.5000\n",
            "Epoch 50/200\n",
            "4/4 [==============================] - 0s 329us/step - loss: 0.6600 - acc: 0.5000\n",
            "Epoch 51/200\n",
            "4/4 [==============================] - 0s 334us/step - loss: 0.6593 - acc: 0.5000\n",
            "Epoch 52/200\n",
            "4/4 [==============================] - 0s 327us/step - loss: 0.6585 - acc: 0.5000\n",
            "Epoch 53/200\n",
            "4/4 [==============================] - 0s 303us/step - loss: 0.6577 - acc: 0.5000\n",
            "Epoch 54/200\n",
            "4/4 [==============================] - 0s 382us/step - loss: 0.6569 - acc: 0.5000\n",
            "Epoch 55/200\n",
            "4/4 [==============================] - 0s 352us/step - loss: 0.6562 - acc: 0.5000\n",
            "Epoch 56/200\n",
            "4/4 [==============================] - 0s 360us/step - loss: 0.6554 - acc: 0.5000\n",
            "Epoch 57/200\n",
            "4/4 [==============================] - 0s 311us/step - loss: 0.6546 - acc: 0.5000\n",
            "Epoch 58/200\n",
            "4/4 [==============================] - 0s 303us/step - loss: 0.6538 - acc: 0.5000\n",
            "Epoch 59/200\n",
            "4/4 [==============================] - 0s 386us/step - loss: 0.6530 - acc: 0.5000\n",
            "Epoch 60/200\n",
            "4/4 [==============================] - 0s 263us/step - loss: 0.6523 - acc: 0.5000\n",
            "Epoch 61/200\n",
            "4/4 [==============================] - 0s 326us/step - loss: 0.6515 - acc: 0.5000\n",
            "Epoch 62/200\n",
            "4/4 [==============================] - 0s 361us/step - loss: 0.6507 - acc: 0.5000\n",
            "Epoch 63/200\n",
            "4/4 [==============================] - 0s 304us/step - loss: 0.6499 - acc: 0.7500\n",
            "Epoch 64/200\n",
            "4/4 [==============================] - 0s 305us/step - loss: 0.6491 - acc: 0.7500\n",
            "Epoch 65/200\n",
            "4/4 [==============================] - 0s 307us/step - loss: 0.6483 - acc: 0.7500\n",
            "Epoch 66/200\n",
            "4/4 [==============================] - 0s 301us/step - loss: 0.6475 - acc: 0.7500\n",
            "Epoch 67/200\n",
            "4/4 [==============================] - 0s 382us/step - loss: 0.6467 - acc: 0.7500\n",
            "Epoch 68/200\n",
            "4/4 [==============================] - 0s 297us/step - loss: 0.6459 - acc: 0.7500\n",
            "Epoch 69/200\n",
            "4/4 [==============================] - 0s 318us/step - loss: 0.6451 - acc: 0.7500\n",
            "Epoch 70/200\n",
            "4/4 [==============================] - 0s 303us/step - loss: 0.6443 - acc: 0.7500\n",
            "Epoch 71/200\n",
            "4/4 [==============================] - 0s 265us/step - loss: 0.6434 - acc: 0.7500\n",
            "Epoch 72/200\n",
            "4/4 [==============================] - 0s 321us/step - loss: 0.6426 - acc: 0.7500\n",
            "Epoch 73/200\n",
            "4/4 [==============================] - 0s 345us/step - loss: 0.6418 - acc: 0.7500\n",
            "Epoch 74/200\n",
            "4/4 [==============================] - 0s 322us/step - loss: 0.6410 - acc: 0.7500\n",
            "Epoch 75/200\n",
            "4/4 [==============================] - 0s 306us/step - loss: 0.6401 - acc: 0.7500\n",
            "Epoch 76/200\n",
            "4/4 [==============================] - 0s 316us/step - loss: 0.6393 - acc: 0.7500\n",
            "Epoch 77/200\n",
            "4/4 [==============================] - 0s 261us/step - loss: 0.6384 - acc: 0.7500\n",
            "Epoch 78/200\n",
            "4/4 [==============================] - 0s 435us/step - loss: 0.6376 - acc: 0.7500\n",
            "Epoch 79/200\n",
            "4/4 [==============================] - 0s 302us/step - loss: 0.6367 - acc: 0.7500\n",
            "Epoch 80/200\n",
            "4/4 [==============================] - 0s 322us/step - loss: 0.6359 - acc: 0.7500\n",
            "Epoch 81/200\n",
            "4/4 [==============================] - 0s 332us/step - loss: 0.6350 - acc: 0.7500\n",
            "Epoch 82/200\n",
            "4/4 [==============================] - 0s 313us/step - loss: 0.6341 - acc: 0.7500\n",
            "Epoch 83/200\n",
            "4/4 [==============================] - 0s 459us/step - loss: 0.6333 - acc: 0.7500\n",
            "Epoch 84/200\n",
            "4/4 [==============================] - 0s 287us/step - loss: 0.6324 - acc: 0.7500\n",
            "Epoch 85/200\n",
            "4/4 [==============================] - 0s 369us/step - loss: 0.6315 - acc: 0.7500\n",
            "Epoch 86/200\n",
            "4/4 [==============================] - 0s 326us/step - loss: 0.6306 - acc: 0.7500\n",
            "Epoch 87/200\n",
            "4/4 [==============================] - 0s 322us/step - loss: 0.6297 - acc: 0.7500\n",
            "Epoch 88/200\n",
            "4/4 [==============================] - 0s 416us/step - loss: 0.6288 - acc: 0.7500\n",
            "Epoch 89/200\n",
            "4/4 [==============================] - 0s 378us/step - loss: 0.6279 - acc: 0.7500\n",
            "Epoch 90/200\n",
            "4/4 [==============================] - 0s 617us/step - loss: 0.6270 - acc: 0.7500\n",
            "Epoch 91/200\n",
            "4/4 [==============================] - 0s 434us/step - loss: 0.6261 - acc: 0.7500\n",
            "Epoch 92/200\n",
            "4/4 [==============================] - 0s 384us/step - loss: 0.6251 - acc: 0.7500\n",
            "Epoch 93/200\n",
            "4/4 [==============================] - 0s 359us/step - loss: 0.6242 - acc: 0.7500\n",
            "Epoch 94/200\n",
            "4/4 [==============================] - 0s 611us/step - loss: 0.6233 - acc: 0.7500\n",
            "Epoch 95/200\n",
            "4/4 [==============================] - 0s 324us/step - loss: 0.6223 - acc: 0.7500\n",
            "Epoch 96/200\n",
            "4/4 [==============================] - 0s 322us/step - loss: 0.6214 - acc: 0.7500\n",
            "Epoch 97/200\n",
            "4/4 [==============================] - 0s 373us/step - loss: 0.6205 - acc: 0.7500\n",
            "Epoch 98/200\n",
            "4/4 [==============================] - 0s 284us/step - loss: 0.6195 - acc: 0.7500\n",
            "Epoch 99/200\n",
            "4/4 [==============================] - 0s 382us/step - loss: 0.6185 - acc: 0.7500\n",
            "Epoch 100/200\n",
            "4/4 [==============================] - 0s 285us/step - loss: 0.6176 - acc: 0.7500\n",
            "Epoch 101/200\n",
            "4/4 [==============================] - 0s 293us/step - loss: 0.6166 - acc: 0.7500\n",
            "Epoch 102/200\n",
            "4/4 [==============================] - 0s 398us/step - loss: 0.6156 - acc: 0.7500\n",
            "Epoch 103/200\n",
            "4/4 [==============================] - 0s 297us/step - loss: 0.6146 - acc: 0.7500\n",
            "Epoch 104/200\n",
            "4/4 [==============================] - 0s 445us/step - loss: 0.6137 - acc: 0.7500\n",
            "Epoch 105/200\n",
            "4/4 [==============================] - 0s 293us/step - loss: 0.6127 - acc: 0.7500\n",
            "Epoch 106/200\n",
            "4/4 [==============================] - 0s 308us/step - loss: 0.6117 - acc: 0.7500\n",
            "Epoch 107/200\n",
            "4/4 [==============================] - 0s 309us/step - loss: 0.6107 - acc: 0.7500\n",
            "Epoch 108/200\n",
            "4/4 [==============================] - 0s 308us/step - loss: 0.6097 - acc: 0.7500\n",
            "Epoch 109/200\n",
            "4/4 [==============================] - 0s 256us/step - loss: 0.6086 - acc: 0.7500\n",
            "Epoch 110/200\n",
            "4/4 [==============================] - 0s 287us/step - loss: 0.6076 - acc: 0.7500\n",
            "Epoch 111/200\n",
            "4/4 [==============================] - 0s 366us/step - loss: 0.6066 - acc: 0.7500\n",
            "Epoch 112/200\n",
            "4/4 [==============================] - 0s 264us/step - loss: 0.6056 - acc: 0.7500\n",
            "Epoch 113/200\n",
            "4/4 [==============================] - 0s 299us/step - loss: 0.6045 - acc: 0.7500\n",
            "Epoch 114/200\n",
            "4/4 [==============================] - 0s 293us/step - loss: 0.6035 - acc: 0.7500\n",
            "Epoch 115/200\n",
            "4/4 [==============================] - 0s 258us/step - loss: 0.6024 - acc: 0.7500\n",
            "Epoch 116/200\n",
            "4/4 [==============================] - 0s 435us/step - loss: 0.6014 - acc: 0.7500\n",
            "Epoch 117/200\n",
            "4/4 [==============================] - 0s 360us/step - loss: 0.6003 - acc: 0.7500\n",
            "Epoch 118/200\n",
            "4/4 [==============================] - 0s 316us/step - loss: 0.5992 - acc: 0.7500\n",
            "Epoch 119/200\n",
            "4/4 [==============================] - 0s 366us/step - loss: 0.5982 - acc: 0.7500\n",
            "Epoch 120/200\n",
            "4/4 [==============================] - 0s 401us/step - loss: 0.5971 - acc: 0.7500\n",
            "Epoch 121/200\n",
            "4/4 [==============================] - 0s 376us/step - loss: 0.5960 - acc: 0.7500\n",
            "Epoch 122/200\n",
            "4/4 [==============================] - 0s 259us/step - loss: 0.5949 - acc: 0.7500\n",
            "Epoch 123/200\n",
            "4/4 [==============================] - 0s 406us/step - loss: 0.5938 - acc: 0.7500\n",
            "Epoch 124/200\n",
            "4/4 [==============================] - 0s 365us/step - loss: 0.5927 - acc: 0.7500\n",
            "Epoch 125/200\n",
            "4/4 [==============================] - 0s 319us/step - loss: 0.5916 - acc: 0.7500\n",
            "Epoch 126/200\n",
            "4/4 [==============================] - 0s 366us/step - loss: 0.5905 - acc: 0.7500\n",
            "Epoch 127/200\n",
            "4/4 [==============================] - 0s 272us/step - loss: 0.5894 - acc: 0.7500\n",
            "Epoch 128/200\n",
            "4/4 [==============================] - 0s 301us/step - loss: 0.5882 - acc: 0.7500\n",
            "Epoch 129/200\n",
            "4/4 [==============================] - 0s 496us/step - loss: 0.5871 - acc: 0.7500\n",
            "Epoch 130/200\n",
            "4/4 [==============================] - 0s 264us/step - loss: 0.5860 - acc: 0.7500\n",
            "Epoch 131/200\n",
            "4/4 [==============================] - 0s 281us/step - loss: 0.5848 - acc: 0.7500\n",
            "Epoch 132/200\n",
            "4/4 [==============================] - 0s 256us/step - loss: 0.5837 - acc: 0.7500\n",
            "Epoch 133/200\n",
            "4/4 [==============================] - 0s 299us/step - loss: 0.5825 - acc: 0.7500\n",
            "Epoch 134/200\n",
            "4/4 [==============================] - 0s 301us/step - loss: 0.5813 - acc: 0.7500\n",
            "Epoch 135/200\n",
            "4/4 [==============================] - 0s 307us/step - loss: 0.5802 - acc: 0.7500\n",
            "Epoch 136/200\n",
            "4/4 [==============================] - 0s 306us/step - loss: 0.5790 - acc: 0.7500\n",
            "Epoch 137/200\n",
            "4/4 [==============================] - 0s 255us/step - loss: 0.5778 - acc: 0.7500\n",
            "Epoch 138/200\n",
            "4/4 [==============================] - 0s 286us/step - loss: 0.5766 - acc: 0.7500\n",
            "Epoch 139/200\n",
            "4/4 [==============================] - 0s 303us/step - loss: 0.5754 - acc: 0.7500\n",
            "Epoch 140/200\n",
            "4/4 [==============================] - 0s 364us/step - loss: 0.5742 - acc: 0.7500\n",
            "Epoch 141/200\n",
            "4/4 [==============================] - 0s 413us/step - loss: 0.5730 - acc: 0.7500\n",
            "Epoch 142/200\n",
            "4/4 [==============================] - 0s 264us/step - loss: 0.5718 - acc: 0.7500\n",
            "Epoch 143/200\n",
            "4/4 [==============================] - 0s 410us/step - loss: 0.5706 - acc: 0.7500\n",
            "Epoch 144/200\n",
            "4/4 [==============================] - 0s 346us/step - loss: 0.5694 - acc: 0.7500\n",
            "Epoch 145/200\n",
            "4/4 [==============================] - 0s 278us/step - loss: 0.5682 - acc: 0.7500\n",
            "Epoch 146/200\n",
            "4/4 [==============================] - 0s 283us/step - loss: 0.5669 - acc: 0.7500\n",
            "Epoch 147/200\n",
            "4/4 [==============================] - 0s 302us/step - loss: 0.5657 - acc: 0.7500\n",
            "Epoch 148/200\n",
            "4/4 [==============================] - 0s 365us/step - loss: 0.5644 - acc: 0.7500\n",
            "Epoch 149/200\n",
            "4/4 [==============================] - 0s 486us/step - loss: 0.5632 - acc: 0.7500\n",
            "Epoch 150/200\n",
            "4/4 [==============================] - 0s 280us/step - loss: 0.5619 - acc: 0.7500\n",
            "Epoch 151/200\n",
            "4/4 [==============================] - 0s 302us/step - loss: 0.5607 - acc: 0.7500\n",
            "Epoch 152/200\n",
            "4/4 [==============================] - 0s 325us/step - loss: 0.5594 - acc: 0.7500\n",
            "Epoch 153/200\n",
            "4/4 [==============================] - 0s 304us/step - loss: 0.5581 - acc: 0.7500\n",
            "Epoch 154/200\n",
            "4/4 [==============================] - 0s 311us/step - loss: 0.5568 - acc: 0.7500\n",
            "Epoch 155/200\n",
            "4/4 [==============================] - 0s 309us/step - loss: 0.5556 - acc: 0.7500\n",
            "Epoch 156/200\n",
            "4/4 [==============================] - 0s 328us/step - loss: 0.5543 - acc: 0.7500\n",
            "Epoch 157/200\n",
            "4/4 [==============================] - 0s 282us/step - loss: 0.5530 - acc: 0.7500\n",
            "Epoch 158/200\n",
            "4/4 [==============================] - 0s 297us/step - loss: 0.5517 - acc: 0.7500\n",
            "Epoch 159/200\n",
            "4/4 [==============================] - 0s 281us/step - loss: 0.5504 - acc: 0.7500\n",
            "Epoch 160/200\n",
            "4/4 [==============================] - 0s 269us/step - loss: 0.5490 - acc: 0.7500\n",
            "Epoch 161/200\n",
            "4/4 [==============================] - 0s 385us/step - loss: 0.5477 - acc: 0.7500\n",
            "Epoch 162/200\n",
            "4/4 [==============================] - 0s 259us/step - loss: 0.5464 - acc: 0.7500\n",
            "Epoch 163/200\n",
            "4/4 [==============================] - 0s 291us/step - loss: 0.5451 - acc: 0.7500\n",
            "Epoch 164/200\n",
            "4/4 [==============================] - 0s 362us/step - loss: 0.5437 - acc: 0.7500\n",
            "Epoch 165/200\n",
            "4/4 [==============================] - 0s 395us/step - loss: 0.5424 - acc: 0.7500\n",
            "Epoch 166/200\n",
            "4/4 [==============================] - 0s 426us/step - loss: 0.5410 - acc: 0.7500\n",
            "Epoch 167/200\n",
            "4/4 [==============================] - 0s 380us/step - loss: 0.5397 - acc: 0.7500\n",
            "Epoch 168/200\n",
            "4/4 [==============================] - 0s 289us/step - loss: 0.5383 - acc: 0.7500\n",
            "Epoch 169/200\n",
            "4/4 [==============================] - 0s 365us/step - loss: 0.5370 - acc: 0.7500\n",
            "Epoch 170/200\n",
            "4/4 [==============================] - 0s 254us/step - loss: 0.5356 - acc: 0.7500\n",
            "Epoch 171/200\n",
            "4/4 [==============================] - 0s 533us/step - loss: 0.5342 - acc: 0.7500\n",
            "Epoch 172/200\n",
            "4/4 [==============================] - 0s 256us/step - loss: 0.5328 - acc: 0.7500\n",
            "Epoch 173/200\n",
            "4/4 [==============================] - 0s 254us/step - loss: 0.5315 - acc: 0.7500\n",
            "Epoch 174/200\n",
            "4/4 [==============================] - 0s 254us/step - loss: 0.5301 - acc: 0.7500\n",
            "Epoch 175/200\n",
            "4/4 [==============================] - 0s 364us/step - loss: 0.5287 - acc: 0.7500\n",
            "Epoch 176/200\n",
            "4/4 [==============================] - 0s 253us/step - loss: 0.5273 - acc: 0.7500\n",
            "Epoch 177/200\n",
            "4/4 [==============================] - 0s 467us/step - loss: 0.5259 - acc: 0.7500\n",
            "Epoch 178/200\n",
            "4/4 [==============================] - 0s 389us/step - loss: 0.5245 - acc: 1.0000\n",
            "Epoch 179/200\n",
            "4/4 [==============================] - 0s 421us/step - loss: 0.5230 - acc: 1.0000\n",
            "Epoch 180/200\n",
            "4/4 [==============================] - 0s 299us/step - loss: 0.5216 - acc: 1.0000\n",
            "Epoch 181/200\n",
            "4/4 [==============================] - 0s 292us/step - loss: 0.5202 - acc: 1.0000\n",
            "Epoch 182/200\n",
            "4/4 [==============================] - 0s 496us/step - loss: 0.5188 - acc: 1.0000\n",
            "Epoch 183/200\n",
            "4/4 [==============================] - 0s 254us/step - loss: 0.5173 - acc: 1.0000\n",
            "Epoch 184/200\n",
            "4/4 [==============================] - 0s 541us/step - loss: 0.5159 - acc: 1.0000\n",
            "Epoch 185/200\n",
            "4/4 [==============================] - 0s 417us/step - loss: 0.5145 - acc: 1.0000\n",
            "Epoch 186/200\n",
            "4/4 [==============================] - 0s 454us/step - loss: 0.5130 - acc: 1.0000\n",
            "Epoch 187/200\n",
            "4/4 [==============================] - 0s 449us/step - loss: 0.5116 - acc: 1.0000\n",
            "Epoch 188/200\n",
            "4/4 [==============================] - 0s 377us/step - loss: 0.5101 - acc: 1.0000\n",
            "Epoch 189/200\n",
            "4/4 [==============================] - 0s 301us/step - loss: 0.5086 - acc: 1.0000\n",
            "Epoch 190/200\n",
            "4/4 [==============================] - 0s 294us/step - loss: 0.5072 - acc: 1.0000\n",
            "Epoch 191/200\n",
            "4/4 [==============================] - 0s 504us/step - loss: 0.5057 - acc: 1.0000\n",
            "Epoch 192/200\n",
            "4/4 [==============================] - 0s 315us/step - loss: 0.5042 - acc: 1.0000\n",
            "Epoch 193/200\n",
            "4/4 [==============================] - 0s 318us/step - loss: 0.5028 - acc: 1.0000\n",
            "Epoch 194/200\n",
            "4/4 [==============================] - 0s 264us/step - loss: 0.5013 - acc: 1.0000\n",
            "Epoch 195/200\n",
            "4/4 [==============================] - 0s 303us/step - loss: 0.4998 - acc: 1.0000\n",
            "Epoch 196/200\n",
            "4/4 [==============================] - 0s 388us/step - loss: 0.4983 - acc: 1.0000\n",
            "Epoch 197/200\n",
            "4/4 [==============================] - 0s 386us/step - loss: 0.4968 - acc: 1.0000\n",
            "Epoch 198/200\n",
            "4/4 [==============================] - 0s 340us/step - loss: 0.4953 - acc: 1.0000\n",
            "Epoch 199/200\n",
            "4/4 [==============================] - 0s 293us/step - loss: 0.4938 - acc: 1.0000\n",
            "Epoch 200/200\n",
            "4/4 [==============================] - 0s 635us/step - loss: 0.4923 - acc: 1.0000\n"
          ],
          "name": "stdout"
        },
        {
          "output_type": "execute_result",
          "data": {
            "text/plain": [
              "<keras.callbacks.History at 0x7fed6ce70fd0>"
            ]
          },
          "metadata": {
            "tags": []
          },
          "execution_count": 57
        }
      ]
    },
    {
      "cell_type": "code",
      "metadata": {
        "id": "LY2G3YB4gk0r",
        "colab_type": "code",
        "colab": {
          "base_uri": "https://localhost:8080/",
          "height": 84
        },
        "outputId": "9fbf29e1-1c04-40eb-86b7-d6effc9cb77d"
      },
      "source": [
        "model.predict(X)"
      ],
      "execution_count": 58,
      "outputs": [
        {
          "output_type": "execute_result",
          "data": {
            "text/plain": [
              "array([[0.70299035, 0.2970097 ],\n",
              "       [0.39833698, 0.601663  ],\n",
              "       [0.35813987, 0.6418602 ],\n",
              "       [0.5172224 , 0.4827776 ]], dtype=float32)"
            ]
          },
          "metadata": {
            "tags": []
          },
          "execution_count": 58
        }
      ]
    },
    {
      "cell_type": "code",
      "metadata": {
        "id": "Mq_oamoDgtyQ",
        "colab_type": "code",
        "colab": {
          "base_uri": "https://localhost:8080/",
          "height": 50
        },
        "outputId": "ce6a399e-6328-464c-8073-652c9653cd22"
      },
      "source": [
        "loss,acc=model.evaluate(X,Y_)\n",
        "print(\"accuracy\",acc)\n",
        "#returns loass and accuracy"
      ],
      "execution_count": 59,
      "outputs": [
        {
          "output_type": "stream",
          "text": [
            "\r4/4 [==============================] - 0s 39ms/step\n",
            "accuracy 1.0\n"
          ],
          "name": "stdout"
        }
      ]
    },
    {
      "cell_type": "code",
      "metadata": {
        "id": "ZxKHNwSXhBXd",
        "colab_type": "code",
        "colab": {
          "base_uri": "https://localhost:8080/",
          "height": 361
        },
        "outputId": "5d5ea68e-1d61-4673-88a9-c65f1db8be36"
      },
      "source": [
        "plot_decision_boundary(lambda x:np.argmax(model.predict(x),axis=1),X,Y)"
      ],
      "execution_count": 60,
      "outputs": [
        {
          "output_type": "display_data",
          "data": {
            "image/png": "[encoded data removed]",
            "text/plain": [
              "<Figure size 576x396 with 1 Axes>"
            ]
          },
          "metadata": {
            "tags": []
          }
        }
      ]
    },
    {
      "cell_type": "code",
      "metadata": {
        "id": "TvZCydqnorBt",
        "colab_type": "code",
        "colab": {
          "base_uri": "https://localhost:8080/",
          "height": 403
        },
        "outputId": "eb3f7a41-144d-4e99-d354-f9af4871d8b0"
      },
      "source": [
        "np.argmax(model.predict(X),axis=1)"
      ],
      "execution_count": 51,
      "outputs": [
        {
          "output_type": "execute_result",
          "data": {
            "text/plain": [
              "array([1, 1, 0, 0, 1, 1, 1, 0, 0, 0, 1, 0, 0, 0, 1, 0, 1, 1, 0, 0, 1, 1,\n",
              "       1, 1, 0, 1, 0, 1, 0, 0, 0, 1, 0, 1, 1, 0, 0, 1, 1, 1, 1, 1, 1, 0,\n",
              "       1, 1, 1, 1, 1, 0, 0, 0, 0, 1, 1, 0, 1, 1, 0, 1, 1, 0, 0, 1, 1, 1,\n",
              "       1, 1, 1, 0, 1, 1, 0, 0, 0, 1, 1, 1, 0, 0, 1, 0, 0, 1, 0, 0, 1, 1,\n",
              "       1, 1, 1, 1, 1, 1, 1, 0, 0, 0, 0, 0, 0, 1, 1, 0, 1, 0, 1, 0, 0, 0,\n",
              "       1, 1, 1, 1, 1, 0, 1, 0, 0, 1, 1, 0, 0, 1, 0, 1, 1, 1, 0, 0, 1, 0,\n",
              "       1, 0, 1, 1, 1, 1, 1, 0, 0, 0, 0, 1, 0, 1, 0, 0, 0, 0, 0, 0, 1, 0,\n",
              "       1, 1, 0, 0, 0, 1, 0, 1, 1, 1, 1, 0, 0, 0, 1, 1, 0, 0, 1, 0, 0, 0,\n",
              "       0, 0, 0, 0, 1, 1, 1, 0, 1, 0, 1, 0, 1, 1, 0, 0, 1, 1, 0, 1, 0, 1,\n",
              "       0, 1, 1, 1, 1, 0, 0, 1, 0, 0, 0, 1, 0, 0, 1, 0, 0, 0, 0, 0, 0, 0,\n",
              "       0, 0, 1, 1, 1, 0, 1, 1, 1, 1, 1, 0, 1, 1, 1, 0, 0, 1, 1, 0, 0, 0,\n",
              "       0, 0, 1, 1, 0, 1, 1, 1, 1, 1, 0, 0, 1, 1, 1, 1, 1, 0, 1, 1, 0, 1,\n",
              "       0, 0, 1, 0, 0, 1, 1, 0, 0, 0, 1, 0, 0, 1, 0, 0, 0, 0, 1, 0, 1, 0,\n",
              "       0, 1, 1, 0, 0, 1, 1, 0, 1, 1, 1, 0, 1, 1, 0, 1, 0, 1, 1, 0, 1, 0,\n",
              "       1, 0, 0, 1, 1, 0, 0, 1, 0, 0, 0, 0, 0, 0, 1, 0, 0, 1, 1, 1, 0, 0,\n",
              "       0, 1, 1, 1, 1, 0, 0, 0, 1, 0, 1, 0, 1, 0, 0, 1, 0, 0, 1, 0, 1, 0,\n",
              "       0, 0, 1, 1, 1, 0, 0, 0, 0, 0, 0, 0, 1, 1, 1, 1, 0, 0, 0, 0, 1, 1,\n",
              "       1, 0, 1, 0, 1, 1, 0, 0, 0, 1, 1, 0, 1, 1, 0, 0, 1, 1, 1, 1, 1, 1,\n",
              "       0, 0, 1, 1, 0, 0, 1, 0, 1, 0, 0, 0, 1, 0, 1, 0, 0, 0, 1, 0, 1, 1,\n",
              "       1, 0, 0, 0, 1, 0, 0, 1, 1, 0, 1, 0, 0, 0, 0, 1, 1, 0, 1, 1, 0, 0,\n",
              "       0, 1, 0, 1, 0, 1, 1, 1, 0, 0, 1, 0, 1, 0, 1, 0, 1, 1, 1, 1, 0, 1,\n",
              "       1, 0, 1, 0, 0, 1, 0, 0, 0, 0, 1, 1, 0, 1, 1, 1, 1, 1, 0, 1, 0, 1,\n",
              "       1, 0, 0, 1, 0, 0, 1, 1, 0, 0, 1, 1, 0, 1, 0, 0])"
            ]
          },
          "metadata": {
            "tags": []
          },
          "execution_count": 51
        }
      ]
    },
    {
      "cell_type": "code",
      "metadata": {
        "id": "ppAEXEb9qPaA",
        "colab_type": "code",
        "colab": {}
      },
      "source": [
        ""
      ],
      "execution_count": 0,
      "outputs": []
    }
  ]
}